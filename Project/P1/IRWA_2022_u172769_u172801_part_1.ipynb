{
  "nbformat": 4,
  "nbformat_minor": 0,
  "metadata": {
    "colab": {
      "provenance": [],
      "collapsed_sections": []
    },
    "kernelspec": {
      "name": "python3",
      "display_name": "Python 3"
    },
    "language_info": {
      "name": "python"
    }
  },
  "cells": [
    {
      "cell_type": "markdown",
      "source": [
        "# **Project - Part 1: Text Processing**\n",
        "\n",
        "You are provided with a document corpus which is a set of tweets related to Hurricane Ian\n",
        "(tw_hurricane_data.json). You can see an example document in the appendix.\n",
        "As a first step, you must pre-process the documents by:\n",
        "\n",
        "* Removing stop words\n",
        "* Tokenization\n",
        "* Removing punctuation marks\n",
        "* Stemming\n",
        "* and... anything else you think it's needed (bonus point)\n",
        "\n",
        "\n",
        "HINTS:\n",
        "1. Take into account that for future queries, the final output must return (when\n",
        "present) the following information for each of the selected documents: Id | Tweet |\n",
        "Username | Date | Hashtags | Likes | Retweets | Url (here the “Url” means the\n",
        "tweet link).\n",
        "\n",
        "2. Think about how to handle the hashtags from your pre-processing steps (e.g.,\n",
        "removing the “#” from the word), since it may be useful to involve them as separated terms\n",
        "inside the inverted index.\n",
        "\n",
        "3. Suggested library that may help you in stemming and stop words: nltk\n",
        "Make sure you map the tweet’s Ids with the document ids as the document Ids will be\n",
        "considered for the evaluation stage of the project (tweet_document_ids_map.csv).\n"
      ],
      "metadata": {
        "id": "Nb1KZpcfolLR"
      }
    },
    {
      "cell_type": "code",
      "execution_count": 19,
      "metadata": {
        "colab": {
          "base_uri": "https://localhost:8080/"
        },
        "id": "FbSm6bpTmnDc",
        "outputId": "9fc393db-58d6-43b6-cfcb-e8095f2fb87f"
      },
      "outputs": [
        {
          "output_type": "stream",
          "name": "stdout",
          "text": [
            "Drive already mounted at /content/drive; to attempt to forcibly remount, call drive.mount(\"/content/drive\", force_remount=True).\n"
          ]
        }
      ],
      "source": [
        "from google.colab import drive\n",
        "drive.mount('/content/drive')"
      ]
    },
    {
      "cell_type": "code",
      "source": [
        "import nltk\n",
        "nltk.download('stopwords')\n",
        "nltk.download('punkt')\n",
        "from collections import defaultdict\n",
        "from array import array\n",
        "from nltk.stem import PorterStemmer\n",
        "from nltk.corpus import stopwords\n",
        "import collections\n",
        "import json\n",
        "import re\n",
        "from tabulate import tabulate\n",
        "stemmer = nltk.stem.SnowballStemmer('english')\n",
        "stopwords = set(stopwords.words('english'))"
      ],
      "metadata": {
        "id": "4_Pxp0hSnWd9",
        "colab": {
          "base_uri": "https://localhost:8080/"
        },
        "outputId": "08bde253-cbc8-42ca-acb4-579a847ef79d"
      },
      "execution_count": 20,
      "outputs": [
        {
          "output_type": "stream",
          "name": "stderr",
          "text": [
            "[nltk_data] Downloading package stopwords to /root/nltk_data...\n",
            "[nltk_data]   Package stopwords is already up-to-date!\n",
            "[nltk_data] Downloading package punkt to /root/nltk_data...\n",
            "[nltk_data]   Package punkt is already up-to-date!\n"
          ]
        }
      ]
    },
    {
      "cell_type": "code",
      "source": [
        "# Load file path\n",
        "file_name = '/content/drive/Shareddrives/IRWA/PROJECT/data/tw_hurricane_data.json'\n",
        "# Use json.loads function with list comprehension to obtain all the tweets\n",
        "lines = [json.loads(line) for line in open(file_name,'r')]\n",
        "# Print first tweet for checking purposes\n",
        "print(lines[0]['entities']['media'][0]['url'])"
      ],
      "metadata": {
        "id": "NgtVixGwnW-X",
        "colab": {
          "base_uri": "https://localhost:8080/"
        },
        "outputId": "d38a8025-08a0-4e3b-ade9-87f128c78552"
      },
      "execution_count": 21,
      "outputs": [
        {
          "output_type": "stream",
          "name": "stdout",
          "text": [
            "https://t.co/VROTxNS9rz\n"
          ]
        }
      ]
    },
    {
      "cell_type": "code",
      "source": [
        "# Print total number of tweets\n",
        "print(\"Total number of Tweets: {}\".format(len(lines)))"
      ],
      "metadata": {
        "colab": {
          "base_uri": "https://localhost:8080/"
        },
        "id": "_-yITtqDMYBw",
        "outputId": "507c1119-a81d-4a0a-c208-ba86f2f41e44"
      },
      "execution_count": 22,
      "outputs": [
        {
          "output_type": "stream",
          "name": "stdout",
          "text": [
            "Total number of Tweets: 4000\n"
          ]
        }
      ]
    },
    {
      "cell_type": "code",
      "source": [
        "class Tweet:\n",
        "  def __init__(self, id, tweet, username, date, hashtags, likes, retweets, url):\n",
        "    self.id = id\n",
        "    self.tweet = tweet\n",
        "    self.username = username\n",
        "    self.date = date\n",
        "    self.hashtags = hashtags\n",
        "    self.likes = likes\n",
        "    self.retweets = retweets\n",
        "    self.url = url\n",
        "  def aslist(self):\n",
        "        return [self.id, self.tweet, self.username, self.date, self.hashtags, self.likes, self.retweets, self.url]\n",
        "  def __iter__(self):\n",
        "        return iter(self.aslist())\n",
        " \n",
        "tweets = []\n",
        "\n",
        "for i in range(len(lines)):\n",
        "\n",
        "    hashtags = []\n",
        "    url = \"\"\n",
        "    \n",
        "    if 'media' in lines[i]['entities']:\n",
        "      url = lines[i]['entities']['media'][0]['url']\n",
        "\n",
        "    for j in range(len(lines[i]['entities']['hashtags'])):\n",
        "      hashtags.append(lines[i]['entities']['hashtags'][j].get('text'))\n",
        "\n",
        "    tweets.append(Tweet(lines[i]['id'], \n",
        "                        lines[i]['full_text'], \n",
        "                        lines[i]['user']['screen_name'], \n",
        "                        lines[i]['created_at'], \n",
        "                        hashtags, \n",
        "                        lines[i]['favorite_count'], \n",
        "                        lines[i]['retweet_count'], \n",
        "                        url))"
      ],
      "metadata": {
        "id": "71bwymH5pEtt"
      },
      "execution_count": 23,
      "outputs": []
    },
    {
      "cell_type": "code",
      "source": [
        "# Print total number of tweets\n",
        "print(\"Total number of Tweets: {}\".format(len(tweets)))"
      ],
      "metadata": {
        "colab": {
          "base_uri": "https://localhost:8080/"
        },
        "id": "HQ_jfv1JoSs4",
        "outputId": "f11ac510-8a36-42b2-c856-47b42067981a"
      },
      "execution_count": 24,
      "outputs": [
        {
          "output_type": "stream",
          "name": "stdout",
          "text": [
            "Total number of Tweets: 4000\n"
          ]
        }
      ]
    },
    {
      "cell_type": "code",
      "source": [
        "# Remove white spaces\n",
        "def remove_white_space(text):\n",
        "    return ' '.join(text.split())\n",
        "# Remove stopwords\n",
        "def remove_stopwords(words):\n",
        "    return [w for w in words if w.lower() not in stopwords]\n",
        "# Remove emojis\n",
        "def remove_emojis(data):\n",
        "    emoj = re.compile(\"[\"\n",
        "        u\"\\U0001F600-\\U0001F64F\"  # emoticons\n",
        "        u\"\\U0001F300-\\U0001F5FF\"  # symbols & pictographs\n",
        "        u\"\\U0001F680-\\U0001F6FF\"  # transport & map symbols\n",
        "        u\"\\U0001F1E0-\\U0001F1FF\"  # flags (iOS)\n",
        "        u\"\\U00002500-\\U00002BEF\"  # chinese char\n",
        "        u\"\\U00002702-\\U000027B0\"\n",
        "        u\"\\U00002702-\\U000027B0\"\n",
        "        u\"\\U000024C2-\\U0001F251\"\n",
        "        u\"\\U0001f926-\\U0001f937\"\n",
        "        u\"\\U00010000-\\U0010ffff\"\n",
        "        u\"\\u2640-\\u2642\" \n",
        "        u\"\\u2600-\\u2B55\"\n",
        "        u\"\\u200d\"\n",
        "        u\"\\u23cf\"\n",
        "        u\"\\u23e9\"\n",
        "        u\"\\u231a\"\n",
        "        u\"\\ufe0f\"  # dingbats\n",
        "        u\"\\u3030\"\n",
        "                      \"]+\", re.UNICODE)\n",
        "    return emoj.sub(r'', data)\n",
        "# Remove punctuation and hashtags\n",
        "def remove_punctuation(data):\n",
        "    return re.sub(r'[^\\w\\s]', '', data)\n",
        "# Remove numbers\n",
        "def remove_numbers(data):\n",
        "    return re.sub(r'[0-9]', '', data)\n",
        "# Remove https\n",
        "def remove_https(words):\n",
        "  return [w for w in words if not w.startswith(\"https\") ]\n",
        "\n",
        "# Preprocess text\n",
        "def preprocess(text):\n",
        "    text = text.replace('\\\\n', '')\n",
        "    text = remove_emojis(text)\n",
        "    text = remove_punctuation(text)\n",
        "    text = remove_numbers(text)\n",
        "    text = remove_white_space(text)\n",
        "    words = nltk.tokenize.word_tokenize(text)\n",
        "    words = [stemmer.stem(word) for word in words]\n",
        "    words = remove_stopwords(words)\n",
        "    words = remove_https(words)\n",
        "    text = \" \".join(words)\n",
        "    return text\n"
      ],
      "metadata": {
        "id": "6SSoaVwovQO7"
      },
      "execution_count": 25,
      "outputs": []
    },
    {
      "cell_type": "code",
      "source": [
        "# Compare not pre-processed with processed text\n",
        "for i in range(10):\n",
        "    print(\"===================\")\n",
        "    print(\"ORIGINAL TEXT\")\n",
        "    print(\"===================\")\n",
        "    print(tweets[i].tweet)\n",
        "    print(\"===================\")\n",
        "    print(\"PROCESSED TEXT\")\n",
        "    print(\"===================\")\n",
        "    print(preprocess(tweets[i].tweet))\n",
        "    print('\\n')\n",
        "\n",
        "for i in range(len(tweets)):\n",
        "  tweets[i].tweet = preprocess(tweets[i].tweet)"
      ],
      "metadata": {
        "colab": {
          "base_uri": "https://localhost:8080/"
        },
        "id": "lSA2kY_956CX",
        "outputId": "914d76b1-0481-497e-fb33-9510075723de"
      },
      "execution_count": 26,
      "outputs": [
        {
          "output_type": "stream",
          "name": "stdout",
          "text": [
            "===================\n",
            "ORIGINAL TEXT\n",
            "===================\n",
            "So this will keep spinning over us until 7 pm…go away already. #HurricaneIan https://t.co/VROTxNS9rz\n",
            "===================\n",
            "PROCESSED TEXT\n",
            "===================\n",
            "keep spin us pmgo away alreadi hurricaneian\n",
            "\n",
            "\n",
            "===================\n",
            "ORIGINAL TEXT\n",
            "===================\n",
            "Our hearts go out to all those affected by #HurricaneIan. We wish everyone on the roads currently braving the conditions safe travels. 💙\n",
            "===================\n",
            "PROCESSED TEXT\n",
            "===================\n",
            "heart go affect hurricaneian wish everyon road current brave condit safe travel\n",
            "\n",
            "\n",
            "===================\n",
            "ORIGINAL TEXT\n",
            "===================\n",
            "Kissimmee neighborhood off of Michigan Ave. \n",
            "#HurricaneIan https://t.co/jf7zseg0Fe\n",
            "===================\n",
            "PROCESSED TEXT\n",
            "===================\n",
            "kissimme neighborhood michigan ave hurricaneian\n",
            "\n",
            "\n",
            "===================\n",
            "ORIGINAL TEXT\n",
            "===================\n",
            "I have this one tree in my backyard that scares me more than the poltergeist tree when it’s storming and windy like this. #scwx #HurricaneIan\n",
            "===================\n",
            "PROCESSED TEXT\n",
            "===================\n",
            "one tree backyard scare poltergeist tree storm windi like scwx hurricaneian\n",
            "\n",
            "\n",
            "===================\n",
            "ORIGINAL TEXT\n",
            "===================\n",
            "@AshleyRuizWx @Stephan89441722 @lilmizzheidi @Mr__Sniffles @winknews @DylanFedericoWX @julianamwx @sydneypersing @NicoleGabeTV I pray for everyone affected by #HurricaneIan, but not those associated with WINKnews.  No sympathy for animal abusers, liars, and those that condone it.\n",
            "===================\n",
            "PROCESSED TEXT\n",
            "===================\n",
            "ashleyruizwx stephan lilmizzheidi mr__sniffl winknew dylanfedericowx julianamwx sydneypers nicolegabetv pray everyon affect hurricaneian associ winknew sympathi anim abus liar condon\n",
            "\n",
            "\n",
            "===================\n",
            "ORIGINAL TEXT\n",
            "===================\n",
            "Ace Handyman Services hopes everyone was safe during the Hurricane. Any damages caused by the hurricane is our first priority! Call and schedule an appointment with one of our multi-skilled craftsmen today! 📞813-565-2022\n",
            "#HurricaneIan #AHS #BringingHelpfulToYourHome https://t.co/BfpOq7tJE0\n",
            "===================\n",
            "PROCESSED TEXT\n",
            "===================\n",
            "ace handyman servic hope everyon safe dure hurrican ani damag caus hurrican first prioriti call schedul appoint one multiskil craftsmen today hurricaneian ah bringinghelpfultoyourhom\n",
            "\n",
            "\n",
            "===================\n",
            "ORIGINAL TEXT\n",
            "===================\n",
            "Storm surge issues in Georgetown, SC #HurricaneIan https://t.co/qWs0XJzGMx\n",
            "===================\n",
            "PROCESSED TEXT\n",
            "===================\n",
            "storm surg issu georgetown sc hurricaneian\n",
            "\n",
            "\n",
            "===================\n",
            "ORIGINAL TEXT\n",
            "===================\n",
            "Our thoughts are with the students, teachers, parents, and communities, suffering in the wake of Hurricane Ian. \n",
            "\n",
            "#CloseUpDC #HurricaneIan #Florida #Georgia #NorthCarolina #SouthCarolina https://t.co/eHZ9NKhCgA\n",
            "===================\n",
            "PROCESSED TEXT\n",
            "===================\n",
            "thought student teacher parent communiti suffer wake hurrican ian closeupdc hurricaneian florida georgia northcarolina southcarolina\n",
            "\n",
            "\n",
            "===================\n",
            "ORIGINAL TEXT\n",
            "===================\n",
            "#SouthCarolina braces for #HurricaneIan to make landfall within HOURS https://t.co/d9sZsk0atW via @MailOnline\n",
            "===================\n",
            "PROCESSED TEXT\n",
            "===================\n",
            "southcarolina brace hurricaneian make landfal within hour via mailonlin\n",
            "\n",
            "\n",
            "===================\n",
            "ORIGINAL TEXT\n",
            "===================\n",
            "How pissed is GOD to send #HurricaneIan to Florida and South Carolina!?\n",
            "\n",
            "The #MAGA cult has angered GOD and are paying for their sins.\n",
            "\n",
            "@RonDeSantisFL @scgovernorpress #Florida #SouthCarolina #MyrtleBeach\n",
            "===================\n",
            "PROCESSED TEXT\n",
            "===================\n",
            "piss god send hurricaneian florida south carolina maga cult anger god pay sin rondesantisfl scgovernorpress florida southcarolina myrtlebeach\n",
            "\n",
            "\n"
          ]
        }
      ]
    },
    {
      "cell_type": "code",
      "source": [
        "# Final visualization of tweets\n",
        "visualization_tweets = []\n",
        "for i in range(10):\n",
        "  visualization_tweets.append(tweets[i])\n",
        "\n",
        "\n",
        "headers = ['ID','TWEET','USERNAME','DATE','HASHTAGS','LIKES', 'RETWEETS', 'URL']\n",
        "print(tabulate(visualization_tweets, headers=headers, tablefmt='fancy_grid'))\n"
      ],
      "metadata": {
        "colab": {
          "base_uri": "https://localhost:8080/"
        },
        "id": "DTmePTsGy2uR",
        "outputId": "fc68833f-3a73-43bc-8036-da29a6481261"
      },
      "execution_count": 27,
      "outputs": [
        {
          "output_type": "stream",
          "name": "stdout",
          "text": [
            "╒═════════════════════╤════════════════════════════════════════════════════════════════════════════════════════════════════════════════════════════════════════════════════════════════════════════════════════╤═══════════════╤════════════════════════════════╤═══════════════════════════════════════════════════════════════════════════════════════╤═════════╤════════════╤═════════════════════════╕\n",
            "│                  ID │ TWEET                                                                                                                                                                                  │ USERNAME      │ DATE                           │ HASHTAGS                                                                              │   LIKES │   RETWEETS │ URL                     │\n",
            "╞═════════════════════╪════════════════════════════════════════════════════════════════════════════════════════════════════════════════════════════════════════════════════════════════════════════════════════╪═══════════════╪════════════════════════════════╪═══════════════════════════════════════════════════════════════════════════════════════╪═════════╪════════════╪═════════════════════════╡\n",
            "│ 1575918182698979328 │ keep spin us pmgo away alreadi hurricaneian                                                                                                                                            │ suzjdean      │ Fri Sep 30 18:39:08 +0000 2022 │ ['HurricaneIan']                                                                      │       0 │          0 │ https://t.co/VROTxNS9rz │\n",
            "├─────────────────────┼────────────────────────────────────────────────────────────────────────────────────────────────────────────────────────────────────────────────────────────────────────────────────────┼───────────────┼────────────────────────────────┼───────────────────────────────────────────────────────────────────────────────────────┼─────────┼────────────┼─────────────────────────┤\n",
            "│ 1575918151862304768 │ heart go affect hurricaneian wish everyon road current brave condit safe travel                                                                                                        │ lytx          │ Fri Sep 30 18:39:01 +0000 2022 │ ['HurricaneIan']                                                                      │       0 │          0 │                         │\n",
            "├─────────────────────┼────────────────────────────────────────────────────────────────────────────────────────────────────────────────────────────────────────────────────────────────────────────────────────┼───────────────┼────────────────────────────────┼───────────────────────────────────────────────────────────────────────────────────────┼─────────┼────────────┼─────────────────────────┤\n",
            "│ 1575918140839673873 │ kissimme neighborhood michigan ave hurricaneian                                                                                                                                        │ CHeathWFTV    │ Fri Sep 30 18:38:58 +0000 2022 │ ['HurricaneIan']                                                                      │       0 │          0 │ https://t.co/jf7zseg0Fe │\n",
            "├─────────────────────┼────────────────────────────────────────────────────────────────────────────────────────────────────────────────────────────────────────────────────────────────────────────────────────┼───────────────┼────────────────────────────────┼───────────────────────────────────────────────────────────────────────────────────────┼─────────┼────────────┼─────────────────────────┤\n",
            "│ 1575918135009738752 │ one tree backyard scare poltergeist tree storm windi like scwx hurricaneian                                                                                                            │ spiralgypsy   │ Fri Sep 30 18:38:57 +0000 2022 │ ['scwx', 'HurricaneIan']                                                              │       0 │          0 │                         │\n",
            "├─────────────────────┼────────────────────────────────────────────────────────────────────────────────────────────────────────────────────────────────────────────────────────────────────────────────────────┼───────────────┼────────────────────────────────┼───────────────────────────────────────────────────────────────────────────────────────┼─────────┼────────────┼─────────────────────────┤\n",
            "│ 1575918119251419136 │ ashleyruizwx stephan lilmizzheidi mr__sniffl winknew dylanfedericowx julianamwx sydneypers nicolegabetv pray everyon affect hurricaneian associ winknew sympathi anim abus liar condon │ Blondie610    │ Fri Sep 30 18:38:53 +0000 2022 │ ['HurricaneIan']                                                                      │       0 │          0 │                         │\n",
            "├─────────────────────┼────────────────────────────────────────────────────────────────────────────────────────────────────────────────────────────────────────────────────────────────────────────────────────┼───────────────┼────────────────────────────────┼───────────────────────────────────────────────────────────────────────────────────────┼─────────┼────────────┼─────────────────────────┤\n",
            "│ 1575918105854984192 │ ace handyman servic hope everyon safe dure hurrican ani damag caus hurrican first prioriti call schedul appoint one multiskil craftsmen today hurricaneian ah bringinghelpfultoyourhom │ ahs_brandon   │ Fri Sep 30 18:38:50 +0000 2022 │ ['HurricaneIan', 'AHS', 'BringingHelpfulToYourHome']                                  │       0 │          0 │ https://t.co/BfpOq7tJE0 │\n",
            "├─────────────────────┼────────────────────────────────────────────────────────────────────────────────────────────────────────────────────────────────────────────────────────────────────────────────────────┼───────────────┼────────────────────────────────┼───────────────────────────────────────────────────────────────────────────────────────┼─────────┼────────────┼─────────────────────────┤\n",
            "│ 1575918095008681986 │ storm surg issu georgetown sc hurricaneian                                                                                                                                             │ erikfox2000   │ Fri Sep 30 18:38:47 +0000 2022 │ ['HurricaneIan']                                                                      │       0 │          0 │ https://t.co/qWs0XJzGMx │\n",
            "├─────────────────────┼────────────────────────────────────────────────────────────────────────────────────────────────────────────────────────────────────────────────────────────────────────────────────────┼───────────────┼────────────────────────────────┼───────────────────────────────────────────────────────────────────────────────────────┼─────────┼────────────┼─────────────────────────┤\n",
            "│ 1575918088473788429 │ thought student teacher parent communiti suffer wake hurrican ian closeupdc hurricaneian florida georgia northcarolina southcarolina                                                   │ CloseUp_DC    │ Fri Sep 30 18:38:46 +0000 2022 │ ['CloseUpDC', 'HurricaneIan', 'Florida', 'Georgia', 'NorthCarolina', 'SouthCarolina'] │       0 │          0 │ https://t.co/eHZ9NKhCgA │\n",
            "├─────────────────────┼────────────────────────────────────────────────────────────────────────────────────────────────────────────────────────────────────────────────────────────────────────────────────────┼───────────────┼────────────────────────────────┼───────────────────────────────────────────────────────────────────────────────────────┼─────────┼────────────┼─────────────────────────┤\n",
            "│ 1575918083075555329 │ southcarolina brace hurricaneian make landfal within hour via mailonlin                                                                                                                │ NOFILTERFACTS │ Fri Sep 30 18:38:44 +0000 2022 │ ['SouthCarolina', 'HurricaneIan']                                                     │       0 │          0 │                         │\n",
            "├─────────────────────┼────────────────────────────────────────────────────────────────────────────────────────────────────────────────────────────────────────────────────────────────────────────────────────┼───────────────┼────────────────────────────────┼───────────────────────────────────────────────────────────────────────────────────────┼─────────┼────────────┼─────────────────────────┤\n",
            "│ 1575918057037303808 │ piss god send hurricaneian florida south carolina maga cult anger god pay sin rondesantisfl scgovernorpress florida southcarolina myrtlebeach                                          │ ModerateOc    │ Fri Sep 30 18:38:38 +0000 2022 │ ['HurricaneIan', 'MAGA', 'Florida', 'SouthCarolina', 'MyrtleBeach']                   │       0 │          0 │                         │\n",
            "╘═════════════════════╧════════════════════════════════════════════════════════════════════════════════════════════════════════════════════════════════════════════════════════════════════════════════════════╧═══════════════╧════════════════════════════════╧═══════════════════════════════════════════════════════════════════════════════════════╧═════════╧════════════╧═════════════════════════╛\n"
          ]
        }
      ]
    }
  ]
}